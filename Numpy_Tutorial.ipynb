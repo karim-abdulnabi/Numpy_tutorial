{
 "cells": [
  {
   "cell_type": "code",
   "execution_count": 2,
   "id": "827c3bf5",
   "metadata": {},
   "outputs": [],
   "source": [
    "import numpy as np           #numpy => numerical python"
   ]
  },
  {
   "cell_type": "code",
   "execution_count": 3,
   "id": "044896a8",
   "metadata": {},
   "outputs": [
    {
     "data": {
      "text/plain": [
       "array([1, 4, 7, 8, 5, 2, 3, 6, 9])"
      ]
     },
     "execution_count": 3,
     "metadata": {},
     "output_type": "execute_result"
    }
   ],
   "source": [
    "list0 = [1,4,7,8,5,2,3,6,9]    #create array from list => 1D\n",
    "arr0 = np.array(list0)\n",
    "arr0"
   ]
  },
  {
   "cell_type": "code",
   "execution_count": 4,
   "id": "cb1b421a",
   "metadata": {},
   "outputs": [
    {
     "data": {
      "text/plain": [
       "array(5)"
      ]
     },
     "execution_count": 4,
     "metadata": {},
     "output_type": "execute_result"
    }
   ],
   "source": [
    "arr1 = np.array(5)           #create array => 0D\n",
    "arr1"
   ]
  },
  {
   "cell_type": "code",
   "execution_count": 5,
   "id": "8a627e22",
   "metadata": {},
   "outputs": [
    {
     "data": {
      "text/plain": [
       "array([[1, 4, 7, 8, 5, 2, 3, 6, 9],\n",
       "       [3, 2, 6, 5, 9, 4, 7, 5, 1]])"
      ]
     },
     "execution_count": 5,
     "metadata": {},
     "output_type": "execute_result"
    }
   ],
   "source": [
    "list1 = [3,2,6,5,9,4,7,5,1]                   #create array from 2 list => 2D\n",
    "arr2 = np.array([list0 , list1])\n",
    "arr2"
   ]
  },
  {
   "cell_type": "code",
   "execution_count": 6,
   "id": "eaab4075",
   "metadata": {},
   "outputs": [
    {
     "data": {
      "text/plain": [
       "array([[[1, 2, 3],\n",
       "        [4, 5, 6],\n",
       "        [7, 8, 9]]])"
      ]
     },
     "execution_count": 6,
     "metadata": {},
     "output_type": "execute_result"
    }
   ],
   "source": [
    "arr3 = np.array([[[1,2,3] , [4,5,6] , [7,8,9]]])           #create array => 3D\n",
    "arr3"
   ]
  },
  {
   "cell_type": "code",
   "execution_count": 7,
   "id": "636d198b",
   "metadata": {},
   "outputs": [
    {
     "data": {
      "text/plain": [
       "array([[[1, 2, 3],\n",
       "        [4, 5, 6]],\n",
       "\n",
       "       [[7, 8, 9],\n",
       "        [9, 6, 3]]])"
      ]
     },
     "execution_count": 7,
     "metadata": {},
     "output_type": "execute_result"
    }
   ],
   "source": [
    "arr4 = np.array([ [ [1,2,3],\n",
    "                    [4,5,6] ] ,\n",
    "                 \n",
    "                  [ [7,8,9],\n",
    "                   [9,6,3]] ])   #array => 3D\n",
    "arr4"
   ]
  },
  {
   "cell_type": "code",
   "execution_count": 8,
   "id": "ce3bc70d",
   "metadata": {},
   "outputs": [
    {
     "data": {
      "text/plain": [
       "array([[[[[1, 2, 3],\n",
       "          [3, 4, 5],\n",
       "          [6, 7, 8]]]]])"
      ]
     },
     "execution_count": 8,
     "metadata": {},
     "output_type": "execute_result"
    }
   ],
   "source": [
    "arr5 = np.array([[[[ \n",
    "                    [1,2,3] , \n",
    "                    [3,4,5] , \n",
    "                    [6,7,8]  ]]]])          # =>5D\n",
    "arr5"
   ]
  },
  {
   "cell_type": "code",
   "execution_count": 9,
   "id": "7cd3072e",
   "metadata": {},
   "outputs": [
    {
     "data": {
      "text/plain": [
       "array([[[[[[[1, 2, 3],\n",
       "            [5, 4, 6]],\n",
       "\n",
       "           [[5, 8, 9],\n",
       "            [2, 5, 8]]]]]]])"
      ]
     },
     "execution_count": 9,
     "metadata": {},
     "output_type": "execute_result"
    }
   ],
   "source": [
    "arr6 = np.array([[[[[                                              # create array from dimintion => 7D\n",
    "                       [ [1,2,3],\n",
    "                         [5,4,6] ],\n",
    "                        \n",
    "                       [ [5,8,9] ,\n",
    "                         [2,5,8] ]  \n",
    "                                       ]]]]])\n",
    "arr6"
   ]
  },
  {
   "cell_type": "markdown",
   "id": "f2bb2ee3",
   "metadata": {},
   "source": [
    "- ndmin"
   ]
  },
  {
   "cell_type": "code",
   "execution_count": 10,
   "id": "9310588d",
   "metadata": {},
   "outputs": [
    {
     "data": {
      "text/plain": [
       "array([[[[[1, 5, 9]]]]])"
      ]
     },
     "execution_count": 10,
     "metadata": {},
     "output_type": "execute_result"
    }
   ],
   "source": [
    "array = np.array([1,5,9] , ndmin=5)\n",
    "array"
   ]
  },
  {
   "cell_type": "code",
   "execution_count": 11,
   "id": "e011d221",
   "metadata": {},
   "outputs": [],
   "source": [
    "import matplotlib.pyplot as plt\n",
    "import matplotlib.image as mpimg"
   ]
  },
  {
   "cell_type": "code",
   "execution_count": 12,
   "id": "fd5752cd",
   "metadata": {},
   "outputs": [
    {
     "data": {
      "text/plain": [
       "<matplotlib.image.AxesImage at 0x26707249ca0>"
      ]
     },
     "execution_count": 12,
     "metadata": {},
     "output_type": "execute_result"
    },
    {
     "data": {
      "image/png": "[encoded data removed]",
      "text/plain": [
       "<Figure size 432x288 with 1 Axes>"
      ]
     },
     "metadata": {
      "needs_background": "light"
     },
     "output_type": "display_data"
    }
   ],
   "source": [
    "img = mpimg.imread(r\"C:\\Users\\USER_PC_SA\\Desktop\\Ds.png\")\n",
    "plt.imshow(img)"
   ]
  },
  {
   "cell_type": "code",
   "execution_count": 13,
   "id": "3b35dbf0",
   "metadata": {},
   "outputs": [
    {
     "name": "stdout",
     "output_type": "stream",
     "text": [
      "[[[[[[[1 2 3]\n",
      "      [5 4 6]]\n",
      "\n",
      "     [[5 8 9]\n",
      "      [2 5 8]]]]]]]\n",
      "dimention is :7\n"
     ]
    }
   ],
   "source": [
    "print(arr6)\n",
    " \n",
    "print(\"dimention is :\" + str(arr6.ndim))             # to know the dimention"
   ]
  },
  {
   "cell_type": "code",
   "execution_count": 14,
   "id": "b4eca603",
   "metadata": {},
   "outputs": [
    {
     "data": {
      "text/plain": [
       "array([[[1, 2, 3],\n",
       "        [5, 4, 6]],\n",
       "\n",
       "       [[5, 8, 9],\n",
       "        [2, 5, 8]]])"
      ]
     },
     "execution_count": 14,
     "metadata": {},
     "output_type": "execute_result"
    }
   ],
   "source": [
    "arr6[0][0][0][0]     #use index"
   ]
  },
  {
   "cell_type": "code",
   "execution_count": 15,
   "id": "a57d51a4",
   "metadata": {},
   "outputs": [
    {
     "name": "stdout",
     "output_type": "stream",
     "text": [
      "[[[1 2 3]\n",
      "  [4 5 6]\n",
      "  [7 8 9]]]\n"
     ]
    },
    {
     "data": {
      "text/plain": [
       "array([[1, 2, 3],\n",
       "       [4, 5, 6]])"
      ]
     },
     "execution_count": 15,
     "metadata": {},
     "output_type": "execute_result"
    }
   ],
   "source": [
    "print(arr3)\n",
    "arr3[0 , 0 : 2]                  #use index to slicing 2D array"
   ]
  },
  {
   "cell_type": "code",
   "execution_count": 16,
   "id": "3eec0bd8",
   "metadata": {},
   "outputs": [
    {
     "data": {
      "text/plain": [
       "array([[[4, 5, 6]]])"
      ]
     },
     "execution_count": 16,
     "metadata": {},
     "output_type": "execute_result"
    }
   ],
   "source": [
    "arr3[0 : 2 , 1 : 2]"
   ]
  },
  {
   "cell_type": "code",
   "execution_count": 17,
   "id": "be120978",
   "metadata": {},
   "outputs": [
    {
     "data": {
      "text/plain": [
       "dtype('int32')"
      ]
     },
     "execution_count": 17,
     "metadata": {},
     "output_type": "execute_result"
    }
   ],
   "source": [
    "arr3.dtype                  #check dtype"
   ]
  },
  {
   "cell_type": "code",
   "execution_count": 18,
   "id": "e755d52b",
   "metadata": {},
   "outputs": [
    {
     "data": {
      "text/plain": [
       "(1, 3, 3)"
      ]
     },
     "execution_count": 18,
     "metadata": {},
     "output_type": "execute_result"
    }
   ],
   "source": [
    "arr3.shape"
   ]
  },
  {
   "cell_type": "code",
   "execution_count": 19,
   "id": "16a21455",
   "metadata": {},
   "outputs": [
    {
     "data": {
      "text/plain": [
       "(1, 1, 1, 1, 2, 2, 3)"
      ]
     },
     "execution_count": 19,
     "metadata": {},
     "output_type": "execute_result"
    }
   ],
   "source": [
    "arr6.shape              #ndim => 7D"
   ]
  },
  {
   "cell_type": "code",
   "execution_count": 20,
   "id": "a75a67fe",
   "metadata": {},
   "outputs": [
    {
     "data": {
      "text/plain": [
       "<matplotlib.image.AxesImage at 0x26709596c10>"
      ]
     },
     "execution_count": 20,
     "metadata": {},
     "output_type": "execute_result"
    },
    {
     "data": {
      "image/png": "[encoded data removed]",
      "text/plain": [
       "<Figure size 432x288 with 1 Axes>"
      ]
     },
     "metadata": {
      "needs_background": "light"
     },
     "output_type": "display_data"
    }
   ],
   "source": [
    "plt.imshow(img)"
   ]
  },
  {
   "cell_type": "code",
   "execution_count": 21,
   "id": "bfec2b62",
   "metadata": {},
   "outputs": [
    {
     "name": "stdout",
     "output_type": "stream",
     "text": [
      "[1 4 7 8 5 2 3 6 9]\n"
     ]
    },
    {
     "data": {
      "text/plain": [
       "array([[1, 4, 7],\n",
       "       [8, 5, 2],\n",
       "       [3, 6, 9]])"
      ]
     },
     "execution_count": 21,
     "metadata": {},
     "output_type": "execute_result"
    }
   ],
   "source": [
    "print(arr0)\n",
    "arr0.reshape(3 , 3)           #  array.reshape(x) , x must be proportional to the number of items"
   ]
  },
  {
   "cell_type": "code",
   "execution_count": 22,
   "id": "69e60805",
   "metadata": {},
   "outputs": [
    {
     "data": {
      "text/plain": [
       "array([1, 4, 7, 8, 5, 2, 3, 6, 9])"
      ]
     },
     "execution_count": 22,
     "metadata": {},
     "output_type": "execute_result"
    }
   ],
   "source": [
    "arr0.reshape(-1)             # convert array to 1D"
   ]
  },
  {
   "cell_type": "code",
   "execution_count": 23,
   "id": "db7e3cb6",
   "metadata": {},
   "outputs": [
    {
     "name": "stdout",
     "output_type": "stream",
     "text": [
      "1\n",
      "4\n",
      "7\n",
      "8\n",
      "5\n",
      "2\n",
      "3\n",
      "6\n",
      "9\n"
     ]
    }
   ],
   "source": [
    "for i in arr0:               #array iterating 1D\n",
    "    print(i)"
   ]
  },
  {
   "cell_type": "code",
   "execution_count": 24,
   "id": "c24d1c4c",
   "metadata": {},
   "outputs": [
    {
     "name": "stdout",
     "output_type": "stream",
     "text": [
      "1\n",
      "4\n",
      "7\n",
      "8\n",
      "5\n",
      "2\n",
      "3\n",
      "6\n",
      "9\n",
      "3\n",
      "2\n",
      "6\n",
      "5\n",
      "9\n",
      "4\n",
      "7\n",
      "5\n",
      "1\n"
     ]
    }
   ],
   "source": [
    "for i in arr2:\n",
    "        for j in i:           #iterating 2D\n",
    "            print(j)"
   ]
  },
  {
   "cell_type": "code",
   "execution_count": 25,
   "id": "c1dbdcc5",
   "metadata": {},
   "outputs": [
    {
     "data": {
      "text/plain": [
       "array([1, 4, 7, 8, 5, 2, 3, 6, 9, 0, 4, 1, 8, 5, 2, 7, 6, 4])"
      ]
     },
     "execution_count": 25,
     "metadata": {},
     "output_type": "execute_result"
    }
   ],
   "source": [
    "arr11 = np.array([0, 4, 1, 8, 5, 2, 7, 6, 4])            #concatenate to array in the same dimention\n",
    "np.concatenate((arr0 , arr11) , axis=0)"
   ]
  },
  {
   "cell_type": "code",
   "execution_count": 26,
   "id": "06535b23",
   "metadata": {},
   "outputs": [
    {
     "data": {
      "text/plain": [
       "array([[[1, 2, 3],\n",
       "        [5, 6, 7],\n",
       "        [0, 2, 3]]])"
      ]
     },
     "execution_count": 26,
     "metadata": {},
     "output_type": "execute_result"
    }
   ],
   "source": [
    "arr_3 = np.array([[[1,2,3],[5,6,7],[0,2,3]]]) \n",
    "arr_3"
   ]
  },
  {
   "cell_type": "code",
   "execution_count": 27,
   "id": "7eb8e778",
   "metadata": {},
   "outputs": [
    {
     "data": {
      "text/plain": [
       "array([[[1, 2, 3],\n",
       "        [5, 6, 7],\n",
       "        [0, 2, 3],\n",
       "        [1, 2, 3],\n",
       "        [4, 5, 6],\n",
       "        [7, 8, 9]]])"
      ]
     },
     "execution_count": 27,
     "metadata": {},
     "output_type": "execute_result"
    }
   ],
   "source": [
    "np.concatenate((arr_3 , arr3) , axis=1)            #joining by concatenate"
   ]
  },
  {
   "cell_type": "code",
   "execution_count": 28,
   "id": "fae9d3d2",
   "metadata": {},
   "outputs": [
    {
     "name": "stdout",
     "output_type": "stream",
     "text": [
      "[[[[1 2 3]\n",
      "   [5 6 7]\n",
      "   [0 2 3]]\n",
      "\n",
      "  [[1 2 3]\n",
      "   [4 5 6]\n",
      "   [7 8 9]]]] dimention :  4\n"
     ]
    },
    {
     "data": {
      "text/plain": [
       "(1, 2, 3, 3)"
      ]
     },
     "execution_count": 28,
     "metadata": {},
     "output_type": "execute_result"
    }
   ],
   "source": [
    "array_1 = np.stack((arr_3 , arr3) , axis=1)              #joining by stack    axis=1\n",
    "print(array_1 ,\"dimention : \", array_1.ndim)\n",
    "array_1.shape"
   ]
  },
  {
   "cell_type": "code",
   "execution_count": 29,
   "id": "88e9a5dd",
   "metadata": {},
   "outputs": [
    {
     "name": "stdout",
     "output_type": "stream",
     "text": [
      "[[[[1 2 3]\n",
      "   [5 6 7]\n",
      "   [0 2 3]]]\n",
      "\n",
      "\n",
      " [[[1 2 3]\n",
      "   [4 5 6]\n",
      "   [7 8 9]]]] dimention :  4\n"
     ]
    },
    {
     "data": {
      "text/plain": [
       "(2, 1, 3, 3)"
      ]
     },
     "execution_count": 29,
     "metadata": {},
     "output_type": "execute_result"
    }
   ],
   "source": [
    "array_0 = np.stack((arr_3 , arr3) , axis=0)\n",
    "print(array_0 , \"dimention : \" , array_0.ndim)\n",
    "array_0.shape"
   ]
  },
  {
   "cell_type": "code",
   "execution_count": 30,
   "id": "d31c6722",
   "metadata": {},
   "outputs": [
    {
     "name": "stdout",
     "output_type": "stream",
     "text": [
      "[[[1 2 3]\n",
      "  [5 6 7]\n",
      "  [0 2 3]\n",
      "  [1 2 3]\n",
      "  [4 5 6]\n",
      "  [7 8 9]]] dimention :  3\n"
     ]
    },
    {
     "data": {
      "text/plain": [
       "(1, 6, 3)"
      ]
     },
     "execution_count": 30,
     "metadata": {},
     "output_type": "execute_result"
    }
   ],
   "source": [
    "hstack = np.hstack((arr_3 , arr3))           #hstack to stack along rows\n",
    "print(hstack , \"dimention : \" , hstack.ndim)\n",
    "hstack.shape"
   ]
  },
  {
   "cell_type": "code",
   "execution_count": 31,
   "id": "546f5731",
   "metadata": {},
   "outputs": [
    {
     "data": {
      "text/plain": [
       "array([[[1, 2, 3],\n",
       "        [5, 6, 7],\n",
       "        [0, 2, 3]],\n",
       "\n",
       "       [[1, 2, 3],\n",
       "        [4, 5, 6],\n",
       "        [7, 8, 9]]])"
      ]
     },
     "execution_count": 31,
     "metadata": {},
     "output_type": "execute_result"
    }
   ],
   "source": [
    "np.vstack((arr_3 , arr3))                         #vstack to stack along rows"
   ]
  },
  {
   "cell_type": "code",
   "execution_count": 32,
   "id": "c82aef99",
   "metadata": {},
   "outputs": [
    {
     "data": {
      "text/plain": [
       "array([[[1, 2, 3, 1, 2, 3],\n",
       "        [5, 6, 7, 4, 5, 6],\n",
       "        [0, 2, 3, 7, 8, 9]]])"
      ]
     },
     "execution_count": 32,
     "metadata": {},
     "output_type": "execute_result"
    }
   ],
   "source": [
    "np.dstack((arr_3 , arr3))                   #dstack "
   ]
  },
  {
   "cell_type": "code",
   "execution_count": 37,
   "id": "097e6c98",
   "metadata": {},
   "outputs": [
    {
     "data": {
      "text/plain": [
       "[array([[[1, 2, 3],\n",
       "         [5, 6, 7]]]),\n",
       " array([[[0, 2, 3],\n",
       "         [1, 2, 3]]]),\n",
       " array([[[4, 5, 6],\n",
       "         [7, 8, 9]]])]"
      ]
     },
     "execution_count": 37,
     "metadata": {},
     "output_type": "execute_result"
    }
   ],
   "source": [
    "arr_split = np.array_split(hstack , 3 , axis=1)         #split 3 time axis = 1 as columns\n",
    "arr_split"
   ]
  },
  {
   "cell_type": "code",
   "execution_count": 40,
   "id": "9ec71b9d",
   "metadata": {},
   "outputs": [
    {
     "data": {
      "text/plain": [
       "(array([0], dtype=int64), array([1], dtype=int64), array([2], dtype=int64))"
      ]
     },
     "execution_count": 40,
     "metadata": {},
     "output_type": "execute_result"
    }
   ],
   "source": [
    "np.where(arr_split[0]==7)                          #where ()      to filter"
   ]
  },
  {
   "cell_type": "code",
   "execution_count": 42,
   "id": "d138a29a",
   "metadata": {},
   "outputs": [
    {
     "data": {
      "text/plain": [
       "2.066820152106912"
      ]
     },
     "execution_count": 42,
     "metadata": {},
     "output_type": "execute_result"
    }
   ],
   "source": [
    "np.random.uniform(1 , 10)                         #to take random number between ( x , y)"
   ]
  },
  {
   "cell_type": "code",
   "execution_count": 43,
   "id": "8e159edc",
   "metadata": {},
   "outputs": [
    {
     "data": {
      "text/plain": [
       "array([5.48623557, 5.95341447, 5.06958022, 7.7620406 , 8.45282428,\n",
       "       2.24660957])"
      ]
     },
     "execution_count": 43,
     "metadata": {},
     "output_type": "execute_result"
    }
   ],
   "source": [
    "np.random.uniform(1 , 10 , 6)                  #to take z random number between ( x , y)"
   ]
  },
  {
   "cell_type": "code",
   "execution_count": 44,
   "id": "8b79c0cb",
   "metadata": {},
   "outputs": [
    {
     "data": {
      "text/plain": [
       "array([[0.10937094, 0.61368238, 0.72114951],\n",
       "       [0.43582692, 0.64320231, 0.28583814]])"
      ]
     },
     "execution_count": 44,
     "metadata": {},
     "output_type": "execute_result"
    }
   ],
   "source": [
    "np.random.random((2 , 3))                     #to take array 2*3 between (0 , 1)"
   ]
  },
  {
   "cell_type": "code",
   "execution_count": 45,
   "id": "5d94754d",
   "metadata": {},
   "outputs": [
    {
     "data": {
      "text/plain": [
       "array([ 0.3358834 ,  1.0650878 ,  0.00645579, -0.30870898, -0.88846964,\n",
       "        0.08461419,  0.45264609,  1.54138563,  0.58258415,  1.0077572 ])"
      ]
     },
     "execution_count": 45,
     "metadata": {},
     "output_type": "execute_result"
    }
   ],
   "source": [
    "np.random.normal(0 , 1 , 10)                   #to take 10 normal number between (0 , 1)"
   ]
  },
  {
   "cell_type": "code",
   "execution_count": 48,
   "id": "4261bdf5",
   "metadata": {},
   "outputs": [
    {
     "data": {
      "text/plain": [
       "array([1, 0, 2, 5, 5, 4, 1, 4, 4, 5])"
      ]
     },
     "execution_count": 48,
     "metadata": {},
     "output_type": "execute_result"
    }
   ],
   "source": [
    "np.random.randint(6 , size = 10)       # to take 10 random int between (0 , 5)"
   ]
  },
  {
   "cell_type": "code",
   "execution_count": 49,
   "id": "2a5a5384",
   "metadata": {},
   "outputs": [
    {
     "data": {
      "text/plain": [
       "array([[6, 8, 9],\n",
       "       [9, 8, 8],\n",
       "       [8, 7, 6]])"
      ]
     },
     "execution_count": 49,
     "metadata": {},
     "output_type": "execute_result"
    }
   ],
   "source": [
    "np.random.randint(6 , 10 , (3 ,  3))  "
   ]
  },
  {
   "cell_type": "code",
   "execution_count": 50,
   "id": "e51c42ec",
   "metadata": {},
   "outputs": [
    {
     "data": {
      "text/plain": [
       "array([0.33991191, 0.93041108, 0.33002674, 0.99142517, 0.0024387 ,\n",
       "       0.1989528 , 0.77774254, 0.75630303, 0.05644445, 0.188998  ,\n",
       "       0.79784158, 0.40647483, 0.18979437, 0.14461727, 0.52109432])"
      ]
     },
     "execution_count": 50,
     "metadata": {},
     "output_type": "execute_result"
    }
   ],
   "source": [
    "np.random.rand(15)          # 15 num between (0 , 1)"
   ]
  },
  {
   "cell_type": "code",
   "execution_count": 52,
   "id": "69793e1f",
   "metadata": {},
   "outputs": [
    {
     "data": {
      "text/plain": [
       "array([[[0.02965988, 0.83887145, 0.89541583, 0.35592504],\n",
       "        [0.81779447, 0.19112776, 0.97463364, 0.96239354],\n",
       "        [0.35630686, 0.08202563, 0.99160765, 0.55874624]],\n",
       "\n",
       "       [[0.22739805, 0.98664182, 0.55587995, 0.80082208],\n",
       "        [0.48217561, 0.69222359, 0.71251537, 0.4633304 ],\n",
       "        [0.82100054, 0.68662713, 0.8946766 , 0.61433629]]])"
      ]
     },
     "execution_count": 52,
     "metadata": {},
     "output_type": "execute_result"
    }
   ],
   "source": [
    "np.random.rand(2 , 3 , 4)   # array from rand num as 2,3,4"
   ]
  },
  {
   "cell_type": "code",
   "execution_count": 56,
   "id": "6bdff99a",
   "metadata": {},
   "outputs": [
    {
     "data": {
      "text/plain": [
       "array([6, 2, 3, 6, 2])"
      ]
     },
     "execution_count": 56,
     "metadata": {},
     "output_type": "execute_result"
    }
   ],
   "source": [
    "np.random.choice(arr0 , size=5)        # to choice 5 random num from array"
   ]
  },
  {
   "cell_type": "code",
   "execution_count": 61,
   "id": "6da9bff7",
   "metadata": {},
   "outputs": [
    {
     "data": {
      "text/plain": [
       "array([1, 8, 3, 2, 9, 6, 7, 4, 5])"
      ]
     },
     "execution_count": 61,
     "metadata": {},
     "output_type": "execute_result"
    }
   ],
   "source": [
    "arr0"
   ]
  },
  {
   "cell_type": "code",
   "execution_count": 67,
   "id": "351d651d",
   "metadata": {},
   "outputs": [],
   "source": [
    "np.random.shuffle(arr0)            # to make suffle for array "
   ]
  },
  {
   "cell_type": "code",
   "execution_count": 68,
   "id": "c2410456",
   "metadata": {},
   "outputs": [
    {
     "data": {
      "text/plain": [
       "array([1, 5, 9, 7, 6, 8, 2, 4, 3])"
      ]
     },
     "execution_count": 68,
     "metadata": {},
     "output_type": "execute_result"
    }
   ],
   "source": [
    "arr0"
   ]
  },
  {
   "cell_type": "code",
   "execution_count": 69,
   "id": "8ae90c20",
   "metadata": {},
   "outputs": [
    {
     "data": {
      "text/plain": [
       "array([0., 0., 0., 0., 0.])"
      ]
     },
     "execution_count": 69,
     "metadata": {},
     "output_type": "execute_result"
    }
   ],
   "source": [
    "np.zeros(5)"
   ]
  },
  {
   "cell_type": "code",
   "execution_count": 70,
   "id": "c1686923",
   "metadata": {},
   "outputs": [
    {
     "data": {
      "text/plain": [
       "array([1., 1., 1., 1.])"
      ]
     },
     "execution_count": 70,
     "metadata": {},
     "output_type": "execute_result"
    }
   ],
   "source": [
    "np.ones(4)"
   ]
  },
  {
   "cell_type": "code",
   "execution_count": 71,
   "id": "84cab2d6",
   "metadata": {},
   "outputs": [
    {
     "data": {
      "text/plain": [
       "array([[1., 1., 1., 1.],\n",
       "       [1., 1., 1., 1.]])"
      ]
     },
     "execution_count": 71,
     "metadata": {},
     "output_type": "execute_result"
    }
   ],
   "source": [
    "np.ones((2 , 4))"
   ]
  },
  {
   "cell_type": "code",
   "execution_count": 72,
   "id": "5c8d5c4e",
   "metadata": {},
   "outputs": [
    {
     "data": {
      "text/plain": [
       "array([[1., 0., 0., 0., 0.],\n",
       "       [0., 1., 0., 0., 0.],\n",
       "       [0., 0., 1., 0., 0.],\n",
       "       [0., 0., 0., 1., 0.],\n",
       "       [0., 0., 0., 0., 1.]])"
      ]
     },
     "execution_count": 72,
     "metadata": {},
     "output_type": "execute_result"
    }
   ],
   "source": [
    "np.eye(5)"
   ]
  },
  {
   "cell_type": "code",
   "execution_count": 73,
   "id": "d3567659",
   "metadata": {},
   "outputs": [
    {
     "data": {
      "text/plain": [
       "array([[23, 23, 23],\n",
       "       [23, 23, 23]])"
      ]
     },
     "execution_count": 73,
     "metadata": {},
     "output_type": "execute_result"
    }
   ],
   "source": [
    "np.full((2 , 3) , 23)"
   ]
  },
  {
   "cell_type": "code",
   "execution_count": 74,
   "id": "4e971700",
   "metadata": {
    "scrolled": true
   },
   "outputs": [
    {
     "data": {
      "text/plain": [
       "array([[ 0,  1,  2,  3,  4,  5],\n",
       "       [ 6,  7,  8,  9, 10, 11],\n",
       "       [12, 13, 14, 15, 16, 17]])"
      ]
     },
     "execution_count": 74,
     "metadata": {},
     "output_type": "execute_result"
    }
   ],
   "source": [
    "np.arange(18).reshape(3 , 6)"
   ]
  },
  {
   "cell_type": "code",
   "execution_count": 85,
   "id": "e43bdc63",
   "metadata": {},
   "outputs": [
    {
     "data": {
      "text/plain": [
       "array([1., 1., 1., 1., 1., 1., 1., 1., 1., 1.])"
      ]
     },
     "execution_count": 85,
     "metadata": {},
     "output_type": "execute_result"
    }
   ],
   "source": [
    "np.random.choice( _70, p=[0.1,0.2,0.3,0.4] , size=10)     # choice randomly 10 num from list size with p=[]"
   ]
  },
  {
   "cell_type": "code",
   "execution_count": 77,
   "id": "9191e594",
   "metadata": {},
   "outputs": [
    {
     "data": {
      "text/plain": [
       "array([[ 0,  1,  2,  3,  4,  5],\n",
       "       [ 6,  7,  8,  9, 10, 11],\n",
       "       [12, 13, 14, 15, 16, 17]])"
      ]
     },
     "execution_count": 77,
     "metadata": {},
     "output_type": "execute_result"
    }
   ],
   "source": []
  },
  {
   "cell_type": "code",
   "execution_count": 87,
   "id": "e6425250",
   "metadata": {},
   "outputs": [
    {
     "data": {
      "text/plain": [
       "array([[ 6,  7,  8,  9, 10, 11],\n",
       "       [12, 13, 14, 15, 16, 17],\n",
       "       [ 0,  1,  2,  3,  4,  5]])"
      ]
     },
     "execution_count": 87,
     "metadata": {},
     "output_type": "execute_result"
    }
   ],
   "source": [
    "np.random.permutation(_74)"
   ]
  },
  {
   "cell_type": "code",
   "execution_count": 89,
   "id": "6a4dbbc8",
   "metadata": {},
   "outputs": [
    {
     "data": {
      "text/plain": [
       "17"
      ]
     },
     "execution_count": 89,
     "metadata": {},
     "output_type": "execute_result"
    }
   ],
   "source": [
    "np.count_nonzero(_87)               # to know number not zero"
   ]
  },
  {
   "cell_type": "code",
   "execution_count": 90,
   "id": "86c90585",
   "metadata": {},
   "outputs": [
    {
     "data": {
      "text/plain": [
       "7"
      ]
     },
     "execution_count": 90,
     "metadata": {},
     "output_type": "execute_result"
    }
   ],
   "source": [
    "np.count_nonzero(_87 > 10)            #to know number > x "
   ]
  },
  {
   "cell_type": "code",
   "execution_count": 91,
   "id": "3d9000c7",
   "metadata": {},
   "outputs": [
    {
     "data": {
      "text/plain": [
       "True"
      ]
     },
     "execution_count": 91,
     "metadata": {},
     "output_type": "execute_result"
    }
   ],
   "source": [
    "np.any(_87 > 15)"
   ]
  },
  {
   "cell_type": "code",
   "execution_count": 92,
   "id": "dda84b8d",
   "metadata": {},
   "outputs": [
    {
     "data": {
      "text/plain": [
       "array([False,  True, False])"
      ]
     },
     "execution_count": 92,
     "metadata": {},
     "output_type": "execute_result"
    }
   ],
   "source": [
    "np.any(_87 > 15 , axis=1)          #for rows"
   ]
  },
  {
   "cell_type": "code",
   "execution_count": 93,
   "id": "eb9121e9",
   "metadata": {},
   "outputs": [
    {
     "data": {
      "text/plain": [
       "array([False, False, False, False,  True,  True])"
      ]
     },
     "execution_count": 93,
     "metadata": {},
     "output_type": "execute_result"
    }
   ],
   "source": [
    "np.any(_87 > 15 , axis=0)           #for columns"
   ]
  },
  {
   "cell_type": "code",
   "execution_count": 95,
   "id": "134ea876",
   "metadata": {},
   "outputs": [
    {
     "data": {
      "text/plain": [
       "array([ True,  True, False])"
      ]
     },
     "execution_count": 95,
     "metadata": {},
     "output_type": "execute_result"
    }
   ],
   "source": [
    "np.all(_87 > 5 , axis=1)"
   ]
  },
  {
   "cell_type": "code",
   "execution_count": 104,
   "id": "cef361f9",
   "metadata": {},
   "outputs": [
    {
     "name": "stdout",
     "output_type": "stream",
     "text": [
      "[[ True  True  True]\n",
      " [ True  True  True]\n",
      " [ True  True  True]]\n",
      "[[ 0 10 20]\n",
      " [30 40 50]\n",
      " [60 70 80]]\n"
     ]
    }
   ],
   "source": [
    "a = np.arange(9).reshape(3 , 3)\n",
    "b = np.arange(9).reshape(3 , 3)\n",
    "print(np.isclose(a , b , rtol=0.1))\n",
    "print(np.multiply(a , 10 , out=a))"
   ]
  },
  {
   "cell_type": "code",
   "execution_count": 105,
   "id": "1988583c",
   "metadata": {},
   "outputs": [
    {
     "data": {
      "text/plain": [
       "array([[ 0,  3,  6],\n",
       "       [ 9, 12, 15],\n",
       "       [18, 21, 24]])"
      ]
     },
     "execution_count": 105,
     "metadata": {},
     "output_type": "execute_result"
    }
   ],
   "source": [
    "b*3"
   ]
  },
  {
   "cell_type": "code",
   "execution_count": 106,
   "id": "17ec7594",
   "metadata": {},
   "outputs": [
    {
     "data": {
      "text/plain": [
       "array([[       0,    10000,   160000],\n",
       "       [  810000,  2560000,  6250000],\n",
       "       [12960000, 24010000, 40960000]], dtype=int32)"
      ]
     },
     "execution_count": 106,
     "metadata": {},
     "output_type": "execute_result"
    }
   ],
   "source": [
    "np.power(a , 4 )"
   ]
  },
  {
   "cell_type": "code",
   "execution_count": 107,
   "id": "43b240fb",
   "metadata": {},
   "outputs": [
    {
     "data": {
      "text/plain": [
       "array([ 90, 120, 150])"
      ]
     },
     "execution_count": 107,
     "metadata": {},
     "output_type": "execute_result"
    }
   ],
   "source": [
    "np.add.reduce(a)           #add all columns"
   ]
  },
  {
   "cell_type": "code",
   "execution_count": 108,
   "id": "dfa82edd",
   "metadata": {},
   "outputs": [
    {
     "data": {
      "text/plain": [
       "array([    0, 28000, 80000])"
      ]
     },
     "execution_count": 108,
     "metadata": {},
     "output_type": "execute_result"
    }
   ],
   "source": [
    "np.multiply.reduce(a)            #multiply as columns"
   ]
  },
  {
   "cell_type": "code",
   "execution_count": 109,
   "id": "f7ae9f91",
   "metadata": {},
   "outputs": [
    {
     "data": {
      "text/plain": [
       "9"
      ]
     },
     "execution_count": 109,
     "metadata": {},
     "output_type": "execute_result"
    }
   ],
   "source": [
    "a.size"
   ]
  },
  {
   "cell_type": "code",
   "execution_count": 110,
   "id": "b74899f9",
   "metadata": {},
   "outputs": [
    {
     "data": {
      "text/plain": [
       "(3, 3)"
      ]
     },
     "execution_count": 110,
     "metadata": {},
     "output_type": "execute_result"
    }
   ],
   "source": [
    "a.shape"
   ]
  },
  {
   "cell_type": "code",
   "execution_count": 111,
   "id": "6b14980d",
   "metadata": {},
   "outputs": [
    {
     "data": {
      "text/plain": [
       "120"
      ]
     },
     "execution_count": 111,
     "metadata": {},
     "output_type": "execute_result"
    }
   ],
   "source": [
    "np.trace(a)"
   ]
  },
  {
   "cell_type": "code",
   "execution_count": 112,
   "id": "1c142f2d",
   "metadata": {},
   "outputs": [
    {
     "data": {
      "text/plain": [
       "0.0"
      ]
     },
     "execution_count": 112,
     "metadata": {},
     "output_type": "execute_result"
    }
   ],
   "source": [
    "np.linalg.det(a)"
   ]
  },
  {
   "cell_type": "code",
   "execution_count": 113,
   "id": "7e2d25f2",
   "metadata": {},
   "outputs": [
    {
     "data": {
      "text/plain": [
       "(array([ 1.33484692e+02, -1.34846923e+01, -8.00714667e-15]),\n",
       " array([[ 0.16476382,  0.79969966,  0.40824829],\n",
       "        [ 0.50577448,  0.10420579, -0.81649658],\n",
       "        [ 0.84678513, -0.59128809,  0.40824829]]))"
      ]
     },
     "execution_count": 113,
     "metadata": {},
     "output_type": "execute_result"
    }
   ],
   "source": [
    "np.linalg.eig(a)0"
   ]
  },
  {
   "cell_type": "code",
   "execution_count": 114,
   "id": "57be2adc",
   "metadata": {},
   "outputs": [
    {
     "data": {
      "text/plain": [
       "array([[ 0,  9, 18],\n",
       "       [27, 36, 45],\n",
       "       [54, 63, 72]])"
      ]
     },
     "execution_count": 114,
     "metadata": {},
     "output_type": "execute_result"
    }
   ],
   "source": [
    "np.subtract(a , b)"
   ]
  },
  {
   "cell_type": "code",
   "execution_count": 117,
   "id": "83d1c384",
   "metadata": {},
   "outputs": [
    {
     "data": {
      "text/plain": [
       "array([[  0,  10,  40],\n",
       "       [ 90, 160, 250],\n",
       "       [360, 490, 640]])"
      ]
     },
     "execution_count": 117,
     "metadata": {},
     "output_type": "execute_result"
    }
   ],
   "source": [
    "np.multiply(a , b)"
   ]
  },
  {
   "cell_type": "code",
   "execution_count": 119,
   "id": "78297e50",
   "metadata": {},
   "outputs": [
    {
     "name": "stderr",
     "output_type": "stream",
     "text": [
      "<ipython-input-119-f77f831fb964>:1: RuntimeWarning: invalid value encountered in divide\n",
      "  np.divide(a , b)\n"
     ]
    },
    {
     "data": {
      "text/plain": [
       "array([[nan, 10., 10.],\n",
       "       [10., 10., 10.],\n",
       "       [10., 10., 10.]])"
      ]
     },
     "execution_count": 119,
     "metadata": {},
     "output_type": "execute_result"
    }
   ],
   "source": [
    "np.divide(a , b)"
   ]
  },
  {
   "cell_type": "code",
   "execution_count": 120,
   "id": "fbe942c6",
   "metadata": {},
   "outputs": [
    {
     "name": "stderr",
     "output_type": "stream",
     "text": [
      "<ipython-input-120-235b850f2257>:1: RuntimeWarning: divide by zero encountered in remainder\n",
      "  np.mod(a , b)\n"
     ]
    },
    {
     "data": {
      "text/plain": [
       "array([[0, 0, 0],\n",
       "       [0, 0, 0],\n",
       "       [0, 0, 0]])"
      ]
     },
     "execution_count": 120,
     "metadata": {},
     "output_type": "execute_result"
    }
   ],
   "source": [
    "np.mod(a , b)"
   ]
  },
  {
   "cell_type": "code",
   "execution_count": 121,
   "id": "b45ba215",
   "metadata": {},
   "outputs": [
    {
     "name": "stderr",
     "output_type": "stream",
     "text": [
      "<ipython-input-121-c769c8e1eb64>:1: RuntimeWarning: divide by zero encountered in log10\n",
      "  np.log10(a)\n"
     ]
    },
    {
     "data": {
      "text/plain": [
       "array([[      -inf, 1.        , 1.30103   ],\n",
       "       [1.47712125, 1.60205999, 1.69897   ],\n",
       "       [1.77815125, 1.84509804, 1.90308999]])"
      ]
     },
     "execution_count": 121,
     "metadata": {},
     "output_type": "execute_result"
    }
   ],
   "source": [
    "np.log10(a)"
   ]
  },
  {
   "cell_type": "code",
   "execution_count": 122,
   "id": "0605bfa3",
   "metadata": {},
   "outputs": [
    {
     "name": "stderr",
     "output_type": "stream",
     "text": [
      "<ipython-input-122-89b6b8e53c58>:1: RuntimeWarning: divide by zero encountered in log\n",
      "  np.log(a)\n"
     ]
    },
    {
     "data": {
      "text/plain": [
       "array([[      -inf, 2.30258509, 2.99573227],\n",
       "       [3.40119738, 3.68887945, 3.91202301],\n",
       "       [4.09434456, 4.24849524, 4.38202663]])"
      ]
     },
     "execution_count": 122,
     "metadata": {},
     "output_type": "execute_result"
    }
   ],
   "source": [
    "np.log(a)"
   ]
  },
  {
   "cell_type": "code",
   "execution_count": 127,
   "id": "14e33b3c",
   "metadata": {},
   "outputs": [
    {
     "data": {
      "text/plain": [
       "0"
      ]
     },
     "execution_count": 127,
     "metadata": {},
     "output_type": "execute_result"
    }
   ],
   "source": [
    "np.prod(a)"
   ]
  },
  {
   "cell_type": "code",
   "execution_count": 129,
   "id": "6a938c26",
   "metadata": {},
   "outputs": [],
   "source": [
    "b[0] = 1"
   ]
  },
  {
   "cell_type": "code",
   "execution_count": 130,
   "id": "2a3fdd92",
   "metadata": {},
   "outputs": [
    {
     "data": {
      "text/plain": [
       "array([    1,     1,     1,     3,    12,    60,   360,  2520, 20160])"
      ]
     },
     "execution_count": 130,
     "metadata": {},
     "output_type": "execute_result"
    }
   ],
   "source": [
    "np.cumprod(b)"
   ]
  },
  {
   "cell_type": "code",
   "execution_count": 132,
   "id": "d9e407aa",
   "metadata": {},
   "outputs": [
    {
     "data": {
      "text/plain": [
       "array([[10, 10],\n",
       "       [10, 10],\n",
       "       [10, 10]])"
      ]
     },
     "execution_count": 132,
     "metadata": {},
     "output_type": "execute_result"
    }
   ],
   "source": [
    "np.diff(a)"
   ]
  },
  {
   "cell_type": "code",
   "execution_count": 139,
   "id": "177bac9c",
   "metadata": {},
   "outputs": [
    {
     "data": {
      "text/plain": [
       "580"
      ]
     },
     "execution_count": 139,
     "metadata": {},
     "output_type": "execute_result"
    }
   ],
   "source": [
    "np.lcm(20 , 29)"
   ]
  },
  {
   "cell_type": "code",
   "execution_count": 135,
   "id": "4d49e2a2",
   "metadata": {},
   "outputs": [
    {
     "data": {
      "text/plain": [
       "array([[ 0, 10, 20],\n",
       "       [30, 40, 50],\n",
       "       [60, 70, 80]])"
      ]
     },
     "execution_count": 135,
     "metadata": {},
     "output_type": "execute_result"
    }
   ],
   "source": [
    "np.lcm(a , b)"
   ]
  },
  {
   "cell_type": "code",
   "execution_count": 140,
   "id": "a812907f",
   "metadata": {},
   "outputs": [
    {
     "data": {
      "text/plain": [
       "1"
      ]
     },
     "execution_count": 140,
     "metadata": {},
     "output_type": "execute_result"
    }
   ],
   "source": [
    "np.gcd(20 , 29)"
   ]
  },
  {
   "cell_type": "code",
   "execution_count": 143,
   "id": "7a2725fd",
   "metadata": {},
   "outputs": [
    {
     "data": {
      "text/plain": [
       "array([30, 10, 10])"
      ]
     },
     "execution_count": 143,
     "metadata": {},
     "output_type": "execute_result"
    }
   ],
   "source": [
    "np.gcd.reduce(a , axis=0)          #for columns"
   ]
  },
  {
   "cell_type": "code",
   "execution_count": 144,
   "id": "2cc1b039",
   "metadata": {},
   "outputs": [
    {
     "data": {
      "text/plain": [
       "array([10, 10, 10])"
      ]
     },
     "execution_count": 144,
     "metadata": {},
     "output_type": "execute_result"
    }
   ],
   "source": [
    "np.gcd.reduce(a , axis=1)            #for rows"
   ]
  },
  {
   "cell_type": "code",
   "execution_count": null,
   "id": "b8aff541",
   "metadata": {},
   "outputs": [],
   "source": []
  }
 ],
 "metadata": {
  "kernelspec": {
   "display_name": "Python 3",
   "language": "python",
   "name": "python3"
  },
  "language_info": {
   "codemirror_mode": {
    "name": "ipython",
    "version": 3
   },
   "file_extension": ".py",
   "mimetype": "text/x-python",
   "name": "python",
   "nbconvert_exporter": "python",
   "pygments_lexer": "ipython3",
   "version": "3.8.8"
  },
  "varInspector": {
   "cols": {
    "lenName": 16,
    "lenType": 16,
    "lenVar": 40
   },
   "kernels_config": {
    "python": {
     "delete_cmd_postfix": "",
     "delete_cmd_prefix": "del ",
     "library": "var_list.py",
     "varRefreshCmd": "print(var_dic_list())"
    },
    "r": {
     "delete_cmd_postfix": ") ",
     "delete_cmd_prefix": "rm(",
     "library": "var_list.r",
     "varRefreshCmd": "cat(var_dic_list()) "
    }
   },
   "types_to_exclude": [
    "module",
    "function",
    "builtin_function_or_method",
    "instance",
    "_Feature"
   ],
   "window_display": false
  }
 },
 "nbformat": 4,
 "nbformat_minor": 5
}
